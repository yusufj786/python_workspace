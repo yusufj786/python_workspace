import csv

with open ('netflix.csv',mode='r') as fd:
    csvFile = csv.DictReader(fd)

    for data in csvFile:
        print(data[0])